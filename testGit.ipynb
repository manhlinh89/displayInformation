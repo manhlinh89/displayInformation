{
 "cells": [
  {
   "cell_type": "code",
   "execution_count": 2,
   "id": "05a28e96",
   "metadata": {},
   "outputs": [
    {
     "name": "stdout",
     "output_type": "stream",
     "text": [
      "Họ tên: Đào Mạnh Linh\n",
      "Lớp Python cơ bản và phân tích dữ liệu\n"
     ]
    }
   ],
   "source": [
    "#Chương trình hiển thị thông tin\n",
    "print(\"Họ tên: Đào Mạnh Linh\")\n",
    "print(\"Lớp Python cơ bản và phân tích dữ liệu\")"
   ]
  },
  {
   "cell_type": "code",
   "execution_count": null,
   "id": "e1910b17",
   "metadata": {},
   "outputs": [],
   "source": []
  }
 ],
 "metadata": {
  "kernelspec": {
   "display_name": "Python 3 (ipykernel)",
   "language": "python",
   "name": "python3"
  },
  "language_info": {
   "codemirror_mode": {
    "name": "ipython",
    "version": 3
   },
   "file_extension": ".py",
   "mimetype": "text/x-python",
   "name": "python",
   "nbconvert_exporter": "python",
   "pygments_lexer": "ipython3",
   "version": "3.9.13"
  }
 },
 "nbformat": 4,
 "nbformat_minor": 5
}
